{
 "cells": [
  {
   "cell_type": "code",
   "execution_count": null,
   "metadata": {},
   "outputs": [],
   "source": [
    "## Move to main directory\n",
    "# Replace with your own path\n",
    "os.chdir('ChIP-seq')"
   ]
  },
  {
   "cell_type": "code",
   "execution_count": null,
   "metadata": {},
   "outputs": [],
   "source": [
    "## Make directory tree\n",
    "\n",
    "if not 'data_processing' in os.listdir('.'):\n",
    "    os.mkdir('data_processing')\n",
    "    os.mkdir('data_processing/genome')\n",
    "    os.mkdir('data_processing/raw_data')\n",
    "    os.mkdir('data_processing/trimmed_data')\n",
    "    os.mkdir('data_processing/aligned_data')\n",
    "    os.mkdir('data_processing/aligned_data/wiggle_files')\n",
    "    \n",
    "os.chdir('./data_processing')"
   ]
  },
  {
   "cell_type": "markdown",
   "metadata": {},
   "source": [
    "# Download and process reference genome"
   ]
  },
  {
   "cell_type": "code",
   "execution_count": null,
   "metadata": {},
   "outputs": [],
   "source": [
    "# Download genome information from NCBI\n",
    "\n",
    "! rsync --copy-links --recursive --times --verbose rsync://genomes/refseq/archaea/Halobacterium_salinarum/all_assembly_versions/GCF_000006805.1_ASM680v1 ./genome/\n"
   ]
  },
  {
   "cell_type": "code",
   "execution_count": null,
   "metadata": {},
   "outputs": [],
   "source": [
    "# Make genome files writable\n",
    "\n",
    "! chmod a+rw ./genome/GCF_000006805.1_ASM680v1/*.gz\n",
    "! chmod a+rw ./genome/GCF_000006805.1_ASM680v1/*.txt\n"
   ]
  },
  {
   "cell_type": "code",
   "execution_count": null,
   "metadata": {},
   "outputs": [],
   "source": [
    "# Rename sequence file and decompress\n",
    "\n",
    "shutil.copy2('./genome/GCF_000006805.1_ASM680v1/GCF_000006805.1_ASM680v1_genomic.fna.gz', './genome/NRC1.fna.gz')\n",
    "shutil.copy2('./genome/GCF_000006805.1_ASM680v1/GCF_000006805.1_ASM680v1_genomic.gff.gz', './genome/NRC1.gff.gz')\n",
    "\n",
    "! gunzip ./genome/*.gz"
   ]
  },
  {
   "cell_type": "code",
   "execution_count": null,
   "metadata": {},
   "outputs": [],
   "source": [
    "# Build genome index library for Bowtie2\n",
    "\n",
    "! bowtie2-build ./genome/NRC1.fna ./genome/NRC1"
   ]
  },
  {
   "cell_type": "code",
   "execution_count": null,
   "metadata": {},
   "outputs": [],
   "source": [
    "# Create annotation bed file (for peak annotations using bedtools)\n",
    "\n",
    "! sortBed -i ./genome/NRC1.gff > ./genome/NRC1_annotations.bed"
   ]
  },
  {
   "cell_type": "markdown",
   "metadata": {},
   "source": [
    "# Processing fastq.gz data files"
   ]
  },
  {
   "cell_type": "code",
   "execution_count": null,
   "metadata": {},
   "outputs": [],
   "source": [
    "## Download data files into ~/data_processing/raw_data\n",
    "# These are available from GEO accession GSE148065\n",
    "\n",
    "# This assumes the original files are backed up on a server/cloud.\n",
    "# Rename and decompress\n",
    "\n",
    "os.rename('./raw_data/AV-S78_S69_L002_R1_001.fastq.gz', './raw_data/0195FLAG1log_IP.fastq.gz')\n",
    "os.rename('./raw_data/AV-S80_S56_L002_R1_001.fastq.gz', './raw_data/0195FLAG2log_IP.fastq.gz')\n",
    "os.rename('./raw_data/AV-S82_S57_L002_R1_001.fastq.gz', './raw_data/0195FLAG3log_IP.fastq.gz')\n",
    "os.rename('./raw_data/AV-S77_S29_L002_R1_001.fastq.gz', './raw_data/0195FLAG1log_WCE.fastq.gz')\n",
    "os.rename('./raw_data/AV-S79_S8_L002_R1_001.fastq.gz', './raw_data/0195FLAG2log_WCE.fastq.gz')\n",
    "os.rename('./raw_data/AV-S81_S41_L002_R1_001.fastq.gz', './raw_data/0195FLAG3log_WCE.fastq.gz')\n",
    "os.rename('./raw_data/AV-S88_S60_L002_R1_001.fastq.gz', './raw_data/0195FLAG1sta_IP.fastq.gz')\n",
    "os.rename('./raw_data/AV-S90_S63_L002_R1_001.fastq.gz', './raw_data/0195FLAG2sta_IP.fastq.gz')\n",
    "os.rename('./raw_data/AV-S92_S49_L002_R1_001.fastq.gz', './raw_data/0195FLAG3sta_IP.fastq.gz')\n",
    "os.rename('./raw_data/AV-S87_S7_L002_R1_001.fastq.gz', './raw_data/0195FLAG1sta_WCE.fastq.gz')\n",
    "os.rename('./raw_data/AV-S89_S15_L002_R1_001.fastq.gz', './raw_data/0195FLAG2sta_WCE.fastq.gz')\n",
    "os.rename('./raw_data/AV-S91_S30_L002_R1_001.fastq.gz', './raw_data/0195FLAG3sta_WCE.fastq.gz')\n",
    "os.rename('./raw_data/AV-S76_S67_L002_R1_001.fastq.gz', './raw_data/ura3FLAGlog_IP.fastq.gz')\n",
    "os.rename('./raw_data/AV-S75_S6_L002_R1_001.fastq.gz', './raw_data/ura3FLAGlog_WCE.fastq.gz')\n",
    "os.rename('./raw_data/AV-S86_S62_L002_R1_001.fastq.gz', './raw_data/ura3FLAGsta_IP.fastq.gz')\n",
    "os.rename('./raw_data/AV-S85_S43_L002_R1_001.fastq.gz', './raw_data/ura3FLAGsta_WCE.fastq.gz')\n",
    "\n",
    "\n",
    "\n",
    "! gunzip ./raw_data/*.fastq.gz"
   ]
  },
  {
   "cell_type": "code",
   "execution_count": null,
   "metadata": {},
   "outputs": [],
   "source": [
    "! ls ./raw_data"
   ]
  },
  {
   "cell_type": "code",
   "execution_count": null,
   "metadata": {},
   "outputs": [],
   "source": [
    "## Assess quality of reads\n",
    "\n",
    "! fastqc -q ./raw_data/*.fastq"
   ]
  },
  {
   "cell_type": "code",
   "execution_count": null,
   "metadata": {},
   "outputs": [],
   "source": [
    "! open ./raw_data/*.html"
   ]
  },
  {
   "cell_type": "code",
   "execution_count": null,
   "metadata": {},
   "outputs": [],
   "source": [
    "## Trim adapter sequences\n",
    "\n",
    "! trim_galore ./raw_data/*.fastq -o ./trimmed_data"
   ]
  },
  {
   "cell_type": "code",
   "execution_count": null,
   "metadata": {},
   "outputs": [],
   "source": [
    "%%bash\n",
    "\n",
    "## Align files with Bowtie2\n",
    "\n",
    "cd ./trimmed_data\n",
    "for file in *_trimmed.fq; do\n",
    "bowtie2 -x ../genome/DS2 -U $file -S ../aligned_data/`basename $file .fq`.sam\n",
    "done"
   ]
  },
  {
   "cell_type": "code",
   "execution_count": null,
   "metadata": {},
   "outputs": [],
   "source": [
    "## Rename, to remove the \"trimmed\" from file names\n",
    "\n",
    "%cd ./aligned_data\n",
    "\n",
    "os.rename('0195FLAG1log_IP_trimmed.sam', '0195FLAG1log_IP.sam')\n",
    "os.rename('0195FLAG2log_IP_trimmed.sam', '0195FLAG2log_IP.sam')\n",
    "os.rename('0195FLAG3log_IP_trimmed.sam', '0195FLAG3log_IP.sam')\n",
    "os.rename('0195FLAG1log_WCE_trimmed.sam', '0195FLAG1log_WCE.sam')\n",
    "os.rename('0195FLAG2log_WCE_trimmed.sam', '0195FLAG2log_WCE.sam')\n",
    "os.rename('0195FLAG3log_WCE_trimmed.sam', '0195FLAG3log_WCE.sam')\n",
    "os.rename('0195FLAG1sta_IP_trimmed.sam', '0195FLAG1sta_IP.sam')\n",
    "os.rename('0195FLAG2sta_IP_trimmed.sam', '0195FLAG2sta_IP.sam')\n",
    "os.rename('0195FLAG3sta_IP_trimmed.sam', '0195FLAG3sta_IP.sam')\n",
    "os.rename('ura3FLAGlog_IP_trimmed.sam', 'ura3FLAGlog_IP.sam')\n",
    "os.rename('ura3FLAGlog_WCE_trimmed.sam', 'ura3FLAGlog_WCE.sam')\n",
    "os.rename('ura3FLAGsta_IP_trimmed.sam', 'ura3FLAGsta_IP.sam')\n",
    "os.rename('ura3FLAGsta_WCE_trimmed.sam', 'ura3FLAGsta_WCE.sam')"
   ]
  },
  {
   "cell_type": "markdown",
   "metadata": {},
   "source": [
    "# Alignment file processing"
   ]
  },
  {
   "cell_type": "code",
   "execution_count": null,
   "metadata": {},
   "outputs": [],
   "source": [
    "%%bash\n",
    "\n",
    "## Alignment processing\n",
    "# Convert sam to bam file\n",
    "\n",
    "for file in *.sam; do\n",
    "samtools view -bS $file > `basename $file .sam`.bam;\n",
    "done"
   ]
  },
  {
   "cell_type": "code",
   "execution_count": null,
   "metadata": {},
   "outputs": [],
   "source": [
    "%%bash\n",
    "\n",
    "# Sort bam files\n",
    "\n",
    "for file in *.bam; do\n",
    "samtools sort $file -o `basename $file .bam`_sorted.bam;\n",
    "done"
   ]
  },
  {
   "cell_type": "code",
   "execution_count": null,
   "metadata": {},
   "outputs": [],
   "source": [
    "%%bash\n",
    "\n",
    "# Index bam files\n",
    "\n",
    "for file in *_sorted.bam; do\n",
    "samtools index $file `basename $file .bam`.bam.bai;\n",
    "done"
   ]
  },
  {
   "cell_type": "markdown",
   "metadata": {},
   "source": [
    "## Generate wiggle files with MOSAiCS\n",
    "\n",
    "For data visualization purposes.\n",
    "Run Generate_wiggle_files.R\n",
    "\n",
    "For details, see documentation of [MOSAiCS package](https://bioconductor.org/packages/release/bioc/html/mosaics.html)"
   ]
  }
 ],
 "metadata": {
  "kernelspec": {
   "display_name": "Python 3",
   "language": "python",
   "name": "python3"
  },
  "language_info": {
   "codemirror_mode": {
    "name": "ipython",
    "version": 3
   },
   "file_extension": ".py",
   "mimetype": "text/x-python",
   "name": "python",
   "nbconvert_exporter": "python",
   "pygments_lexer": "ipython3",
   "version": "3.7.3"
  }
 },
 "nbformat": 4,
 "nbformat_minor": 2
}
